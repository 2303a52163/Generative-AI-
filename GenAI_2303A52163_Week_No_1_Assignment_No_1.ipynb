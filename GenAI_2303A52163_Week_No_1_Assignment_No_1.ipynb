{
  "nbformat": 4,
  "nbformat_minor": 0,
  "metadata": {
    "colab": {
      "provenance": [],
      "authorship_tag": "ABX9TyO5Eg87bdTfoE3sCBGYpwJj",
      "include_colab_link": true
    },
    "kernelspec": {
      "name": "python3",
      "display_name": "Python 3"
    },
    "language_info": {
      "name": "python"
    }
  },
  "cells": [
    {
      "cell_type": "markdown",
      "metadata": {
        "id": "view-in-github",
        "colab_type": "text"
      },
      "source": [
        "<a href=\"https://colab.research.google.com/github/2303a52163/Generative-AI-2025/blob/main/GenAI_2303A52163_Week_No_1_Assignment_No_1.ipynb\" target=\"_parent\"><img src=\"https://colab.research.google.com/assets/colab-badge.svg\" alt=\"Open In Colab\"/></a>"
      ]
    },
    {
      "cell_type": "markdown",
      "source": [
        "# **1.Question**"
      ],
      "metadata": {
        "id": "jUlIocVEgdYV"
      }
    },
    {
      "cell_type": "markdown",
      "source": [
        "**1. (1 ponto) Write Python code from scratch to find error metrics of deep learning model. Actual values and deep learning model predicted values are shown in Table 1. Also compare the resultswith the outcomes of libraries**\n",
        "\n",
        "**YActual:[ 20 , 30 , 40 , 50 , 60]**     \n",
        "**YPred: [20.5 , 30.3 , 40.2 , 50.6 , 60.7]**\n",
        "\n",
        "**Tabela 1: YActual Vs. YPred**"
      ],
      "metadata": {
        "id": "4GHVjZ2FwueS"
      }
    },
    {
      "cell_type": "markdown",
      "source": [
        "\n",
        "#**Actual and predicted values**"
      ],
      "metadata": {
        "id": "4D3PZOf1qLd7"
      }
    },
    {
      "cell_type": "code",
      "source": [
        "import numpy as np\n",
        "y_actual = np.array([20, 30, 40, 50, 60])\n",
        "y_pred = np.array([20.5, 30.3, 40.2, 50.6, 60.7])"
      ],
      "metadata": {
        "id": "o9S2dOlQqj9Z"
      },
      "execution_count": 8,
      "outputs": []
    },
    {
      "cell_type": "markdown",
      "source": [
        "# **Mean Absolute Error (MAE)**"
      ],
      "metadata": {
        "id": "FN4xHPqgqo-z"
      }
    },
    {
      "cell_type": "code",
      "source": [
        "def mae(y_actual, y_pred):\n",
        "  return np.mean(np.abs(y_actual - y_pred))\n",
        "mae_result = mae(y_actual, y_pred)\n",
        "print(f\"Mean Absolute Error (MAE): {mae_result}\")"
      ],
      "metadata": {
        "colab": {
          "base_uri": "https://localhost:8080/"
        },
        "id": "3daqO_XoqypL",
        "outputId": "02ac3d33-e1cc-44d7-c117-4ce9964bcf29"
      },
      "execution_count": 9,
      "outputs": [
        {
          "output_type": "stream",
          "name": "stdout",
          "text": [
            "Mean Absolute Error (MAE): 0.4600000000000016\n"
          ]
        }
      ]
    },
    {
      "cell_type": "markdown",
      "source": [
        "#**Mean Squared Error (MSE)**"
      ],
      "metadata": {
        "id": "NDufw2dWq5lP"
      }
    },
    {
      "cell_type": "code",
      "source": [
        "def mse(y_actual, y_pred):\n",
        "  return np.mean(np.square(y_actual - y_pred))\n",
        "mse_result = mse(y_actual, y_pred)\n",
        "print(f\"Mean Squared Error (MSE): {mse_result}\")"
      ],
      "metadata": {
        "colab": {
          "base_uri": "https://localhost:8080/"
        },
        "id": "nDf5pvBCrNtO",
        "outputId": "0c37ff6b-84d7-470f-a372-2ec62cf7a17a"
      },
      "execution_count": 10,
      "outputs": [
        {
          "output_type": "stream",
          "name": "stdout",
          "text": [
            "Mean Squared Error (MSE): 0.24600000000000147\n"
          ]
        }
      ]
    },
    {
      "cell_type": "markdown",
      "source": [
        "# **Root Mean Squared Error (RMSE)**"
      ],
      "metadata": {
        "id": "YdBymF3drOSa"
      }
    },
    {
      "cell_type": "code",
      "source": [
        "def rmse(y_actual, y_pred):\n",
        "  return np.sqrt(mse(y_actual,y_pred))\n",
        "rmse_result = rmse(y_actual, y_pred)\n",
        "print(f\"Root Mean Squared Error (RMSE): {rmse_result}\")"
      ],
      "metadata": {
        "colab": {
          "base_uri": "https://localhost:8080/"
        },
        "id": "mM9cmkYgrOqI",
        "outputId": "dcb65142-830c-4247-e7a6-0a06eeff40bf"
      },
      "execution_count": 12,
      "outputs": [
        {
          "output_type": "stream",
          "name": "stdout",
          "text": [
            "Root Mean Squared Error (RMSE): 0.49598387070549127\n"
          ]
        }
      ]
    },
    {
      "cell_type": "markdown",
      "source": [
        "# **Comparison with libraries (sklearn)**"
      ],
      "metadata": {
        "id": "SyPgTBp-rdex"
      }
    },
    {
      "cell_type": "code",
      "source": [
        "from sklearn.metrics import mean_absolute_error, mean_squared_error\n",
        "mae_sklearn = mean_absolute_error(y_actual, y_pred)\n",
        "mse_sklearn = mean_squared_error(y_actual, y_pred)\n",
        "rmse_sklearn = np.sqrt(mse_sklearn)\n",
        "\n",
        "print(f\"\\nComparison with scikit-learn:\")\n",
        "print(f\"MAE (sklearn): {mae_sklearn}\")\n",
        "print(f\"MSE (sklearn): {mse_sklearn}\")\n",
        "print(f\"RMSE (sklearn): {rmse_sklearn}\")"
      ],
      "metadata": {
        "colab": {
          "base_uri": "https://localhost:8080/"
        },
        "id": "nbaCwX92iTYu",
        "outputId": "8b1fdce6-c5ef-481d-d11b-5ebe0d73e63b"
      },
      "execution_count": 14,
      "outputs": [
        {
          "output_type": "stream",
          "name": "stdout",
          "text": [
            "\n",
            "Comparison with scikit-learn:\n",
            "MAE (sklearn): 0.4600000000000016\n",
            "MSE (sklearn): 0.24600000000000147\n",
            "RMSE (sklearn): 0.49598387070549127\n"
          ]
        }
      ]
    },
    {
      "cell_type": "markdown",
      "source": [
        "# **Question 2**"
      ],
      "metadata": {
        "id": "RsaYf0eqszlY"
      }
    },
    {
      "cell_type": "markdown",
      "source": [
        "**2. (1 ponto) Write python code from scratch to find evaluation metrics of deep learning model.Actual values and deep learning model predicted values are** **shown in Table 2. Also compare the results with outcome of libraries**\n",
        "\n",
        "**YActual: [ 0 , 0 , 0 , 0 , 0 ]**\n",
        "\n",
        "**YPred: [0 , 0  , 1 , 2 , 2 ]**\n",
        "\n",
        "**Tabela 2: YActual Vs. YPred**"
      ],
      "metadata": {
        "id": "9pRMjNYos0AO"
      }
    },
    {
      "cell_type": "markdown",
      "source": [
        "\n",
        "#**Actual and predicted values**"
      ],
      "metadata": {
        "id": "cwDAX7wwOQQ2"
      }
    },
    {
      "cell_type": "code",
      "source": [
        "import numpy as np\n",
        "from sklearn.metrics import mean_absolute_error, mean_squared_error\n",
        "y_actual = np.array([0, 0, 0, 0, 0])\n",
        "y_pred = np.array([0, 0, 1, 2, 2])"
      ],
      "metadata": {
        "id": "Tq-EawyzOQkc"
      },
      "execution_count": 25,
      "outputs": []
    },
    {
      "cell_type": "markdown",
      "source": [
        "# **Mean Absolute Error (MAE)**"
      ],
      "metadata": {
        "id": "6oXUJ10IOl4X"
      }
    },
    {
      "cell_type": "code",
      "source": [
        "def mae(y_actual, y_pred):\n",
        "  return np.mean(np.abs(y_actual - y_pred))\n",
        "mae_result = mae(y_actual, y_pred)\n",
        "print(f\"Mean Absolute Error (MAE): {mae_result}\")"
      ],
      "metadata": {
        "colab": {
          "base_uri": "https://localhost:8080/"
        },
        "id": "FVEI0A4rOnJq",
        "outputId": "dd1dd8c6-bb45-466a-cea4-87ccdecd8829"
      },
      "execution_count": 26,
      "outputs": [
        {
          "output_type": "stream",
          "name": "stdout",
          "text": [
            "Mean Absolute Error (MAE): 1.0\n"
          ]
        }
      ]
    },
    {
      "cell_type": "markdown",
      "source": [
        "#**Mean Squared Error (MSE)**"
      ],
      "metadata": {
        "id": "SeBxDfyYOos2"
      }
    },
    {
      "cell_type": "code",
      "source": [
        "def mse(y_actual, y_pred):\n",
        "  return np.mean(np.square(y_actual - y_pred))\n",
        "mse_result = mse(y_actual, y_pred)\n",
        "print(f\"Mean Squared Error (MSE): {mse_result}\")"
      ],
      "metadata": {
        "colab": {
          "base_uri": "https://localhost:8080/"
        },
        "id": "6mgOoc8fOo9U",
        "outputId": "10aa9e1b-30f5-440e-bb63-38406be34ad1"
      },
      "execution_count": 27,
      "outputs": [
        {
          "output_type": "stream",
          "name": "stdout",
          "text": [
            "Mean Squared Error (MSE): 1.8\n"
          ]
        }
      ]
    },
    {
      "cell_type": "markdown",
      "source": [
        "# **Root Mean Squared Error (RMSE)**"
      ],
      "metadata": {
        "id": "z_tQPHgZOxv_"
      }
    },
    {
      "cell_type": "code",
      "source": [
        "def rmse(y_actual, y_pred):\n",
        "  return np.sqrt(mse(y_actual, y_pred))\n",
        "rmse_result = rmse(y_actual, y_pred)\n",
        "print(f\"Root Mean Squared Error (RMSE): {rmse_result}\")"
      ],
      "metadata": {
        "colab": {
          "base_uri": "https://localhost:8080/"
        },
        "id": "kw5JB2GwOx-z",
        "outputId": "b4d42866-c26b-481d-84c8-533bb8e05528"
      },
      "execution_count": 28,
      "outputs": [
        {
          "output_type": "stream",
          "name": "stdout",
          "text": [
            "Root Mean Squared Error (RMSE): 1.3416407864998738\n"
          ]
        }
      ]
    },
    {
      "cell_type": "markdown",
      "source": [
        "# **Comparison with libraries (sklearn)**"
      ],
      "metadata": {
        "id": "CuPfdLz6PJau"
      }
    },
    {
      "cell_type": "code",
      "source": [
        "mae_sklearn = mean_absolute_error(y_actual, y_pred)\n",
        "mse_sklearn = mean_squared_error(y_actual, y_pred)\n",
        "rmse_sklearn = np.sqrt(mse_sklearn)\n",
        "\n",
        "print(f\"\\nComparison with scikit-learn:\")\n",
        "print(f\"MAE (sklearn): {mae_sklearn}\")\n",
        "print(f\"MSE (sklearn): {mse_sklearn}\")\n",
        "print(f\"RMSE (sklearn): {rmse_sklearn}\")"
      ],
      "metadata": {
        "colab": {
          "base_uri": "https://localhost:8080/"
        },
        "id": "ovl49yK-PJqU",
        "outputId": "1e79ee5a-d358-4b78-a978-cf0a74b7607d"
      },
      "execution_count": 30,
      "outputs": [
        {
          "output_type": "stream",
          "name": "stdout",
          "text": [
            "\n",
            "Comparison with scikit-learn:\n",
            "MAE (sklearn): 1.0\n",
            "MSE (sklearn): 1.8\n",
            "RMSE (sklearn): 1.3416407864998738\n"
          ]
        }
      ]
    },
    {
      "cell_type": "markdown",
      "source": [
        "# **Additional metrics relevant for classification(since the data seems binary)**"
      ],
      "metadata": {
        "id": "TLCO_1rD0hQs"
      }
    },
    {
      "cell_type": "code",
      "source": [
        "from sklearn.metrics import accuracy_score, precision_score, recall_score, f1_score\n",
        "accuracy = accuracy_score(y_actual, y_pred)\n",
        "precision = precision_score(y_actual, y_pred, average='micro')\n",
        "recall = recall_score(y_actual, y_pred, average='micro')\n",
        "f1 = f1_score(y_actual, y_pred, average='micro')\n",
        "\n",
        "print(f\"\\nClassification Metrics:\")\n",
        "print(f\"Accuracy: {accuracy}\")\n",
        "print(f\"Precision: {precision}\")\n",
        "print(f\"Recall: {recall}\")\n",
        "print(f\"F1 Score: {f1}\")\n",
        "\n",
        "print(f\"\\nConfusion Matrix:\")\n",
        "print(conf_matrix)"
      ],
      "metadata": {
        "colab": {
          "base_uri": "https://localhost:8080/"
        },
        "id": "hD4cv7H_0hsH",
        "outputId": "09524ebc-4276-46e0-dada-686e6d6e6259"
      },
      "execution_count": 32,
      "outputs": [
        {
          "output_type": "stream",
          "name": "stdout",
          "text": [
            "\n",
            "Classification Metrics:\n",
            "Accuracy: 0.4\n",
            "Precision: 0.4\n",
            "Recall: 0.4\n",
            "F1 Score: 0.4\n",
            "\n",
            "Confusion Matrix:\n",
            "[[2 1 2]\n",
            " [3 0 2]\n",
            " [2 1 2]]\n"
          ]
        }
      ]
    }
  ]
}