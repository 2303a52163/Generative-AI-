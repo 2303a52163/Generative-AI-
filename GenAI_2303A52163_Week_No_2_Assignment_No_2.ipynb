{
  "nbformat": 4,
  "nbformat_minor": 0,
  "metadata": {
    "colab": {
      "provenance": [],
      "authorship_tag": "ABX9TyMlite9QeR36NM2KP8se9AI",
      "include_colab_link": true
    },
    "kernelspec": {
      "name": "python3",
      "display_name": "Python 3"
    },
    "language_info": {
      "name": "python"
    }
  },
  "cells": [
    {
      "cell_type": "markdown",
      "metadata": {
        "id": "view-in-github",
        "colab_type": "text"
      },
      "source": [
        "<a href=\"https://colab.research.google.com/github/2303a52163/Generative-AI-2025/blob/main/GenAI_2303A52163_Week_No_2_Assignment_No_2.ipynb\" target=\"_parent\"><img src=\"https://colab.research.google.com/assets/colab-badge.svg\" alt=\"Open In Colab\"/></a>"
      ]
    },
    {
      "cell_type": "markdown",
      "source": [
        "# **Question 1**"
      ],
      "metadata": {
        "id": "PgDVcFnkc_v_"
      }
    },
    {
      "cell_type": "markdown",
      "source": [
        "**prompt: 1. (1 ponto) Develop mathematical modeling for the given case study and find solution using**\n",
        "\n",
        " **Python**\n",
        "\n",
        " **Consider a chocolate manufacturing company that produces only two types of chocolate i.e. A and B. Both the chocolates require Milk and Choco only.**\n",
        "\n",
        " **To manufacture each unit of A and B , the following quantites are required:**\n",
        "\n",
        " **Each unit of A requires 1 unit of Milk and 3 units of Choco**\n",
        "\n",
        " **Each unit of B requires 1 unit of Milk and 2 units of Choco**\n",
        "\n",
        "**The company kitchen has a total of 5 units of Milk and 12 units of Choco. On each sale, the company makes a profit of Rs 6 per sanit A sold and Rs 5 per unit B sold.**\n",
        "\n",
        "**Now, the company wishes to maximize its profit. How many units of A and B should it produce respectively?**"
      ],
      "metadata": {
        "id": "lnTqJfZCc_4q"
      }
    },
    {
      "cell_type": "code",
      "source": [
        "import numpy as np\n",
        "from scipy.optimize import linprog\n",
        "c = [-6, -5]\n",
        "A = [[1, 1], [3, 2]]\n",
        "b = [5, 12]\n",
        "\n",
        "x_bounds = (0, None)\n",
        "y_bounds = (0, None)\n",
        "\n",
        "result = linprog(c, A_ub=A, b_ub=b, bounds=[x_bounds, y_bounds], method=\"highs\")\n",
        "if result.success:\n",
        "    print(\"Optimal Solution:\")\n",
        "    print(\"Units of A:\", round(result.x[0]))\n",
        "    print(\"Units of B:\", round(result.x[1]))\n",
        "    print(\"Maximum Profit:\", -round(result.fun))\n",
        "else:\n",
        "    print(\"Optimization failed:\", result.message)"
      ],
      "metadata": {
        "colab": {
          "base_uri": "https://localhost:8080/"
        },
        "id": "8hn64ATcyWvX",
        "outputId": "59a7d03a-b72b-4359-9411-b1b7a62861e9"
      },
      "execution_count": 1,
      "outputs": [
        {
          "output_type": "stream",
          "name": "stdout",
          "text": [
            "Optimal Solution:\n",
            "Units of A: 2\n",
            "Units of B: 3\n",
            "Maximum Profit: 27\n"
          ]
        }
      ]
    },
    {
      "cell_type": "markdown",
      "source": [
        "# **Question 2**"
      ],
      "metadata": {
        "id": "JXGOiGaf0vWv"
      }
    },
    {
      "cell_type": "markdown",
      "source": [
        "**2. (1 ponto) Develop mathematical modeling for the given case study and find solution using Python**\n",
        "\n",
        "**A farmer has recently acquired a 100 hectares piece of land. He has decided to grow Wheat and barley on that land. Due to the quality of the sun and the region's excellent climate, the entire production of Wheat and Barley can be sold. He wants to know how to plant each variety in the 100 hectares, given the costs, net profits and labor requirements according to the data shown below**\n",
        "\n",
        "**The farmer has a budget of Rs. 7,00,000 and availability of 1,200 man-days during the planning horizon. Find the optimal solution and the optimal value.**"
      ],
      "metadata": {
        "id": "9NvtHIQv0vdx"
      }
    },
    {
      "cell_type": "code",
      "source": [
        "import numpy as np\n",
        "from scipy.optimize import linprog\n",
        "obj = [-50, -120]\n",
        "A = [[7000, 2000], [10, 30]]\n",
        "B = [700000, 1200]\n",
        "A_eq = [[1, 1]]\n",
        "B_eq = [100]\n",
        "bounds = [(0, float('inf')), (0, float('inf'))]\n",
        "opt = linprog(c=obj, A_ub=A, b_ub=B, A_eq=A_eq, b_eq=B_eq, bounds=bounds, method='simplex')\n",
        "chac = np.round(opt.x)\n",
        "print(f\"Number of hectares for Wheat = {chac[0]}, Barley = {chac[1]}\")\n",
        "max_profit = -opt.fun\n",
        "print(f\"The farmer should plant Wheat on {chac[0]} hectares and Barley on {chac[1]} hectares to get the maximum profit of Rs {max_profit:.2f}.\")"
      ],
      "metadata": {
        "colab": {
          "base_uri": "https://localhost:8080/"
        },
        "id": "kdh-k2FaIfkr",
        "outputId": "2e46d055-67af-4fd0-e393-2d45f802e06e"
      },
      "execution_count": 8,
      "outputs": [
        {
          "output_type": "stream",
          "name": "stdout",
          "text": [
            "Number of hectares for Wheat = 90.0, Barley = 10.0\n",
            "The farmer should plant Wheat on 90.0 hectares and Barley on 10.0 hectares to get the maximum profit of Rs 5700.00.\n"
          ]
        },
        {
          "output_type": "stream",
          "name": "stderr",
          "text": [
            "<ipython-input-8-b050dd880f0b>:9: DeprecationWarning: `method='simplex'` is deprecated and will be removed in SciPy 1.11.0. Please use one of the HiGHS solvers (e.g. `method='highs'`) in new code.\n",
            "  opt = linprog(c=obj, A_ub=A, b_ub=B, A_eq=A_eq, b_eq=B_eq, bounds=bounds, method='simplex')\n"
          ]
        }
      ]
    }
  ]
}