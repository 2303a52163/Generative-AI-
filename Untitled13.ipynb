{
  "nbformat": 4,
  "nbformat_minor": 0,
  "metadata": {
    "colab": {
      "provenance": [],
      "authorship_tag": "ABX9TyNIqxHlxBgIchAiQpXbSvn4",
      "include_colab_link": true
    },
    "kernelspec": {
      "name": "python3",
      "display_name": "Python 3"
    },
    "language_info": {
      "name": "python"
    }
  },
  "cells": [
    {
      "cell_type": "markdown",
      "metadata": {
        "id": "view-in-github",
        "colab_type": "text"
      },
      "source": [
        "<a href=\"https://colab.research.google.com/github/2303a52163/Generative-AI-2025/blob/main/Untitled13.ipynb\" target=\"_parent\"><img src=\"https://colab.research.google.com/assets/colab-badge.svg\" alt=\"Open In Colab\"/></a>"
      ]
    },
    {
      "cell_type": "markdown",
      "source": [
        "**1. (1 ponto) Write Python code without using any libraries to find the value of x at which the function f(x) shown in equation (1) has minimum value. Consider Gradient Descent Algorithm.**\n",
        "\n",
        "**f (x) = 5x84 + 3x82 + 10**"
      ],
      "metadata": {
        "id": "ZW7XmzMFnn2y"
      }
    },
    {
      "cell_type": "code",
      "source": [
        "def f(x):\n",
        "    return 5 * x**4 + 3 * x**2 + 10\n",
        "def df(x):\n",
        "    return 20 * x**3 + 6 * x\n",
        "def gradient_descent(learning_rate, max_iterations):\n",
        "  # Initialize x\n",
        "    x = 1.0\n",
        "    for i in range(max_iterations):\n",
        "        gradient = df(x)\n",
        "        prev_x = x\n",
        "        x = x - learning_rate * gradient\n",
        "\n",
        "        if abs(x - prev_x) < 1e-6:\n",
        "            print(f\"Converged after {i+1} iterations\")\n",
        "            break\n",
        "    return x\n",
        "learning_rate = 0.01\n",
        "max_iterations = 1000\n",
        "min_x = gradient_descent(learning_rate, max_iterations)\n",
        "min_value = f(min_x)\n",
        "\n",
        "print(f\"Minimum occurs at x = {min_x}\")\n",
        "print(f\"Minimum value = {min_value}\")"
      ],
      "metadata": {
        "colab": {
          "base_uri": "https://localhost:8080/"
        },
        "id": "jTjpFWM4m-aW",
        "outputId": "fd0d6713-c538-4eba-ec2e-9fc1750b8aee"
      },
      "execution_count": 10,
      "outputs": [
        {
          "output_type": "stream",
          "name": "stdout",
          "text": [
            "Converged after 166 iterations\n",
            "Minimum occurs at x = 1.5377093794492703e-05\n",
            "Minimum value = 10.000000000709365\n"
          ]
        }
      ]
    },
    {
      "cell_type": "markdown",
      "source": [
        "**2. (1 ponto) Write Python code without using any libraries to find the value of x and y at which the function g(x,y) shown in equation (2) has minimum value. Consider Gradient Descent Algorithm.**\n",
        "\n",
        "**f(x) = 3x*2 + 5e*−y + 10**"
      ],
      "metadata": {
        "id": "LAzT3a5yq3AZ"
      }
    },
    {
      "cell_type": "code",
      "source": [
        "e = 2.718281828459045\n",
        "\n",
        "def g(x, y):\n",
        "    return 3 * x**2 + 5 * (e**-y) + 10\n",
        "\n",
        "def dg_dx(x, y):\n",
        "    return 6 * x  # Partial derivative with respect to x\n",
        "\n",
        "def dg_dy(x, y):\n",
        "    return -5 * (e**-y)  # Partial derivative with respect to y\n",
        "\n",
        "def gradient_descent_2d(learning_rate, max_iterations):\n",
        "    x = 1.0\n",
        "    y = 1.0\n",
        "\n",
        "    for i in range(max_iterations):\n",
        "        grad_x = dg_dx(x, y)\n",
        "        grad_y = dg_dy(x, y)\n",
        "        prev_x = x\n",
        "        prev_y = y\n",
        "        x = x - learning_rate * grad_x\n",
        "        y = y - learning_rate * grad_y\n",
        "\n",
        "        if ((x - prev_x)**2 + (y - prev_y)**2)**0.5 < 1e-6:\n",
        "            print(f\"Converged after {i+1} iterations\")\n",
        "            break\n",
        "\n",
        "    return x, y\n",
        "\n",
        "learning_rate = 0.01\n",
        "max_iterations = 1000\n",
        "min_x, min_y = gradient_descent_2d(learning_rate, max_iterations)\n",
        "min_value = g(min_x, min_y)\n",
        "\n",
        "print(f\"Minimum occurs at x = {min_x} and y = {min_y}\")\n",
        "print(f\"Minimum value = {min_value}\")\n"
      ],
      "metadata": {
        "colab": {
          "base_uri": "https://localhost:8080/"
        },
        "id": "8LVYSw3Jq3Rj",
        "outputId": "c2036360-d460-4307-b0a0-ff33d2b63c20"
      },
      "execution_count": 11,
      "outputs": [
        {
          "output_type": "stream",
          "name": "stdout",
          "text": [
            "Minimum occurs at x = 1.3423123924933694e-27 and y = 3.9663707936306647\n",
            "Minimum value = 10.094710265808493\n"
          ]
        }
      ]
    },
    {
      "cell_type": "markdown",
      "source": [
        "**3. (1 ponto) Write Python code without using any libraries to find the value of x at which the sigmoid function z(x) shown in equation (3) has minimum value. Consider Gradient Descent Algorithm.**\n",
        "\n",
        "         **z(x) = 1/1 + e−x**\n",
        ""
      ],
      "metadata": {
        "id": "YTO4dA-JrMoJ"
      }
    },
    {
      "cell_type": "code",
      "source": [
        "import math # Import the math module\n",
        "\n",
        "def gradient_descent_sigmoid(learning_rate, max_iterations):\n",
        "  # Initialize x\n",
        "    xi = 1.0\n",
        "    def sigmoid(x):\n",
        "        return 1 / (1 + math.exp(-x))  # Now math.exp is accessible\n",
        "    def sigmoid_derivative(x):\n",
        "        sig = sigmoid(x)\n",
        "        return sig * (1 - sig)\n",
        "    for i in range(max_iterations):\n",
        "        gradient = sigmoid_derivative(xi)\n",
        "        xi_new = xi - learning_rate * gradient\n",
        "        if abs(gradient) < 1e-6:\n",
        "            print(f\"Converged after {i+1} iterations\")\n",
        "            break\n",
        "\n",
        "        xi = xi_new\n",
        "\n",
        "    return xi\n",
        "\n",
        "learning_rate = 0.01\n",
        "max_iterations = 1000\n",
        "min_x = gradient_descent_sigmoid(learning_rate, max_iterations)\n",
        "\n",
        "print(f\"x = {min_x:.6f}\")\n",
        "print(f\"sigmoid(x) = {1/(1 + math.exp(-min_x)):.6f}\")"
      ],
      "metadata": {
        "colab": {
          "base_uri": "https://localhost:8080/"
        },
        "id": "sA98flEZrNHq",
        "outputId": "d2d374a3-9852-4cd6-a71e-b130f06091fe"
      },
      "execution_count": 15,
      "outputs": [
        {
          "output_type": "stream",
          "name": "stdout",
          "text": [
            "x = -1.240692\n",
            "sigmoid(x) = 0.224316\n"
          ]
        }
      ]
    },
    {
      "cell_type": "markdown",
      "source": [
        "**4. (1 ponto) Write Python code without using any libraries to find the value of optimal values of model parameters M and C such that the model’s Square Error Value shown in equation 4 will be minimum. It means model gives output close to expected output as shown in Figure 1**"
      ],
      "metadata": {
        "id": "zOt1G5b2rl_j"
      }
    },
    {
      "cell_type": "code",
      "source": [
        "def gradient_descent_linear_model(inputs, expected_outputs, learning_rate, num_iterations):\n",
        "    M, C = 0, 0\n",
        "    n = len(inputs)\n",
        "    for i in range(num_iterations):\n",
        "        grad_M = sum(-2 * x * (y - (M * x + C)) for x, y in zip(inputs, expected_outputs)) / n\n",
        "        grad_C = sum(-2 * (y - (M * x + C)) for x, y in zip(inputs, expected_outputs)) / n\n",
        "        M = M - learning_rate * grad_M\n",
        "        C = C - learning_rate * grad_C\n",
        "        if abs(grad_M) < 1e-6 and abs(grad_C) < 1e-6:\n",
        "            print(f\"Converged after {i+1} iterations\")\n",
        "            break\n",
        "\n",
        "    return M, C\n",
        "\n",
        "inputs = [1, 2, 3, 4]\n",
        "expected_outputs = [2, 4, 6, 8]\n",
        "learning_rate = 0.01\n",
        "num_iterations = 1000\n",
        "\n",
        "M, C = gradient_descent_linear_model(inputs, expected_outputs, learning_rate, num_iterations)\n",
        "print(f\"M = {M}, C = {C}\")"
      ],
      "metadata": {
        "colab": {
          "base_uri": "https://localhost:8080/"
        },
        "id": "TmXmoDhMrmcI",
        "outputId": "76854d6e-77c7-41d3-f424-5e9b41938047"
      },
      "execution_count": 16,
      "outputs": [
        {
          "output_type": "stream",
          "name": "stdout",
          "text": [
            "M = 1.9896587550255742, C = 0.030404521305361965\n"
          ]
        }
      ]
    }
  ]
}